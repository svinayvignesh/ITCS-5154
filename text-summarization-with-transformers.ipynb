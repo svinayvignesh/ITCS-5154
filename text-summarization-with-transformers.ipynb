{
 "cells": [
  {
   "cell_type": "markdown",
   "metadata": {},
   "source": [
    "# Abstractive Text Summarization Using Transformer with Self-Attention Mechanism (T2SAM)"
   ]
  },
  {
   "cell_type": "markdown",
   "metadata": {},
   "source": [
    "Vinay Shasi - 801393998\n",
    "\n",
    "Based on the research paper:</br>\n",
    "Kumar, S., Solanki, A. An abstractive text summarization technique using transformer model with self-attention mechanism. Neural Comput & Applic 35, 18603–18622 (2023). https://doi.org/10.1007/s00521-023-08687-7"
   ]
  },
  {
   "cell_type": "markdown",
   "metadata": {},
   "source": [
    "## Initial Imports"
   ]
  },
  {
   "cell_type": "code",
   "execution_count": 1,
   "metadata": {
    "execution": {
     "iopub.execute_input": "2023-11-13T17:56:14.919326Z",
     "iopub.status.busy": "2023-11-13T17:56:14.918928Z",
     "iopub.status.idle": "2023-11-13T17:56:23.541091Z",
     "shell.execute_reply": "2023-11-13T17:56:23.540095Z",
     "shell.execute_reply.started": "2023-11-13T17:56:14.919244Z"
    }
   },
   "outputs": [],
   "source": [
    "!pip install openpyxl  --quiet\n",
    "!pip install tensorflow --quiet"
   ]
  },
  {
   "cell_type": "code",
   "execution_count": 2,
   "metadata": {
    "execution": {
     "iopub.execute_input": "2023-11-13T17:59:36.454331Z",
     "iopub.status.busy": "2023-11-13T17:59:36.453974Z",
     "iopub.status.idle": "2023-11-13T17:59:41.937671Z",
     "shell.execute_reply": "2023-11-13T17:59:41.936882Z",
     "shell.execute_reply.started": "2023-11-13T17:59:36.454296Z"
    }
   },
   "outputs": [],
   "source": [
    "import numpy as np\n",
    "import matplotlib.pyplot as plt\n",
    "import pandas as pd\n",
    "import tensorflow as tf\n",
    "import re\n",
    "import time"
   ]
  },
  {
   "cell_type": "code",
   "execution_count": 3,
   "metadata": {
    "execution": {
     "iopub.execute_input": "2023-11-13T19:56:45.541906Z",
     "iopub.status.busy": "2023-11-13T19:56:45.541566Z",
     "iopub.status.idle": "2023-11-13T19:56:45.546074Z",
     "shell.execute_reply": "2023-11-13T19:56:45.545078Z",
     "shell.execute_reply.started": "2023-11-13T19:56:45.541878Z"
    }
   },
   "outputs": [],
   "source": [
    "# Essential Constants\n",
    "ENCODER_LENGTH = 140\n",
    "DECODER_LENGTH = 40\n",
    "BATCH_SIZE = 64\n",
    "BUFFER_SIZE = BATCH_SIZE*8"
   ]
  },
  {
   "cell_type": "markdown",
   "metadata": {},
   "source": [
    "## Checking and loading the dataset\n",
    "\n",
    "Applying Start of Sentence() and End of Sentence() tokens. </br>\n",
    "These sentences are then tokenized and padded to fix length."
   ]
  },
  {
   "cell_type": "code",
   "execution_count": 4,
   "metadata": {
    "execution": {
     "iopub.execute_input": "2023-11-13T19:57:11.568107Z",
     "iopub.status.busy": "2023-11-13T19:57:11.567711Z",
     "iopub.status.idle": "2023-11-13T19:57:21.201659Z",
     "shell.execute_reply": "2023-11-13T19:57:21.200725Z",
     "shell.execute_reply.started": "2023-11-13T19:57:11.568072Z"
    }
   },
   "outputs": [
    {
     "data": {
      "text/html": [
       "<div>\n",
       "<style scoped>\n",
       "    .dataframe tbody tr th:only-of-type {\n",
       "        vertical-align: middle;\n",
       "    }\n",
       "\n",
       "    .dataframe tbody tr th {\n",
       "        vertical-align: top;\n",
       "    }\n",
       "\n",
       "    .dataframe thead th {\n",
       "        text-align: right;\n",
       "    }\n",
       "</style>\n",
       "<table border=\"1\" class=\"dataframe\">\n",
       "  <thead>\n",
       "    <tr style=\"text-align: right;\">\n",
       "      <th></th>\n",
       "      <th>Headline</th>\n",
       "      <th>Short</th>\n",
       "    </tr>\n",
       "  </thead>\n",
       "  <tbody>\n",
       "    <tr>\n",
       "      <th>0</th>\n",
       "      <td>4 ex-bank officials booked for cheating bank o...</td>\n",
       "      <td>The CBI on Saturday booked four former officia...</td>\n",
       "    </tr>\n",
       "    <tr>\n",
       "      <th>1</th>\n",
       "      <td>Supreme Court to go paperless in 6 months: CJI</td>\n",
       "      <td>Chief Justice JS Khehar has said the Supreme C...</td>\n",
       "    </tr>\n",
       "    <tr>\n",
       "      <th>2</th>\n",
       "      <td>At least 3 killed, 30 injured in blast in Sylh...</td>\n",
       "      <td>At least three people were killed, including a...</td>\n",
       "    </tr>\n",
       "    <tr>\n",
       "      <th>3</th>\n",
       "      <td>Why has Reliance been barred from trading in f...</td>\n",
       "      <td>Mukesh Ambani-led Reliance Industries (RIL) wa...</td>\n",
       "    </tr>\n",
       "    <tr>\n",
       "      <th>4</th>\n",
       "      <td>Was stopped from entering my own studio at Tim...</td>\n",
       "      <td>TV news anchor Arnab Goswami has said he was t...</td>\n",
       "    </tr>\n",
       "  </tbody>\n",
       "</table>\n",
       "</div>"
      ],
      "text/plain": [
       "                                            Headline  \\\n",
       "0  4 ex-bank officials booked for cheating bank o...   \n",
       "1     Supreme Court to go paperless in 6 months: CJI   \n",
       "2  At least 3 killed, 30 injured in blast in Sylh...   \n",
       "3  Why has Reliance been barred from trading in f...   \n",
       "4  Was stopped from entering my own studio at Tim...   \n",
       "\n",
       "                                               Short  \n",
       "0  The CBI on Saturday booked four former officia...  \n",
       "1  Chief Justice JS Khehar has said the Supreme C...  \n",
       "2  At least three people were killed, including a...  \n",
       "3  Mukesh Ambani-led Reliance Industries (RIL) wa...  \n",
       "4  TV news anchor Arnab Goswami has said he was t...  "
      ]
     },
     "execution_count": 4,
     "metadata": {},
     "output_type": "execute_result"
    }
   ],
   "source": [
    "news = pd.read_excel(\"/Users/vshasi/Documents/ITCS_5154 ML/Project/Trial/Inshorts Cleaned Data.xlsx\", engine = 'openpyxl')\n",
    "news.drop(['Source ', 'Time ', 'Publish Date'], axis=1, inplace=True)\n",
    "news.head()"
   ]
  },
  {
   "cell_type": "code",
   "execution_count": 5,
   "metadata": {
    "execution": {
     "iopub.execute_input": "2023-11-13T19:57:21.203207Z",
     "iopub.status.busy": "2023-11-13T19:57:21.202932Z",
     "iopub.status.idle": "2023-11-13T19:57:21.208128Z",
     "shell.execute_reply": "2023-11-13T19:57:21.207228Z",
     "shell.execute_reply.started": "2023-11-13T19:57:21.203181Z"
    }
   },
   "outputs": [
    {
     "data": {
      "text/plain": [
       "(55104, 2)"
      ]
     },
     "execution_count": 5,
     "metadata": {},
     "output_type": "execute_result"
    }
   ],
   "source": [
    "news.shape"
   ]
  },
  {
   "cell_type": "code",
   "execution_count": 6,
   "metadata": {
    "execution": {
     "iopub.execute_input": "2023-11-13T19:57:21.210197Z",
     "iopub.status.busy": "2023-11-13T19:57:21.209847Z",
     "iopub.status.idle": "2023-11-13T19:57:21.307022Z",
     "shell.execute_reply": "2023-11-13T19:57:21.306267Z",
     "shell.execute_reply.started": "2023-11-13T19:57:21.210168Z"
    }
   },
   "outputs": [],
   "source": [
    "short = news['Short']\n",
    "headline = news['Headline']\n",
    "short = short.apply(lambda x: '<SOS> ' + x + ' <EOS>')\n",
    "headline = headline.apply(lambda x: '<SOS> ' + x + ' <EOS>')"
   ]
  },
  {
   "cell_type": "code",
   "execution_count": 7,
   "metadata": {
    "execution": {
     "iopub.execute_input": "2023-11-13T19:57:21.308964Z",
     "iopub.status.busy": "2023-11-13T19:57:21.308602Z",
     "iopub.status.idle": "2023-11-13T19:57:21.623442Z",
     "shell.execute_reply": "2023-11-13T19:57:21.622488Z",
     "shell.execute_reply.started": "2023-11-13T19:57:21.308926Z"
    }
   },
   "outputs": [],
   "source": [
    "# Replaces HTML entities in text with a space.\n",
    "def preprocess(text):\n",
    "    text = re.sub(r\"&.[1-9]+;\",\" \",text)\n",
    "    return text\n",
    "short = short.apply(lambda x: preprocess(x))\n",
    "headline = headline.apply(lambda x: preprocess(x))"
   ]
  },
  {
   "cell_type": "code",
   "execution_count": 8,
   "metadata": {
    "execution": {
     "iopub.execute_input": "2023-11-13T19:57:34.228976Z",
     "iopub.status.busy": "2023-11-13T19:57:34.228631Z",
     "iopub.status.idle": "2023-11-13T19:57:43.383404Z",
     "shell.execute_reply": "2023-11-13T19:57:43.382642Z",
     "shell.execute_reply.started": "2023-11-13T19:57:34.228946Z"
    }
   },
   "outputs": [],
   "source": [
    "# Tokenizes text data into sequences of integers, replacing out-of-vocabulary words with a special token.\n",
    "filters = '!\"#$%&()*+,-./:;=?@[\\\\]^_`{|}~\\t\\n'\n",
    "out_of_vocabulary_token = '<unk>'\n",
    "short_tokenizer = tf.keras.preprocessing.text.Tokenizer(oov_token=out_of_vocabulary_token)\n",
    "headline_tokenizer = tf.keras.preprocessing.text.Tokenizer(filters=filters, oov_token=out_of_vocabulary_token)\n",
    "short_tokenizer.fit_on_texts(short)\n",
    "headline_tokenizer.fit_on_texts(headline)\n",
    "inputs = short_tokenizer.texts_to_sequences(short)\n",
    "targets = headline_tokenizer.texts_to_sequences(headline)"
   ]
  },
  {
   "cell_type": "code",
   "execution_count": 9,
   "metadata": {
    "execution": {
     "iopub.execute_input": "2023-11-13T19:57:43.384954Z",
     "iopub.status.busy": "2023-11-13T19:57:43.384690Z",
     "iopub.status.idle": "2023-11-13T19:57:43.390038Z",
     "shell.execute_reply": "2023-11-13T19:57:43.389169Z",
     "shell.execute_reply.started": "2023-11-13T19:57:43.384928Z"
    }
   },
   "outputs": [
    {
     "name": "stdout",
     "output_type": "stream",
     "text": [
      "76362 29661\n"
     ]
    }
   ],
   "source": [
    "# Calculate the sizes of the encoder and decoder vocabularies\n",
    "ENCODER_VOCAB = len(short_tokenizer.word_index) + 1\n",
    "DECODER_VOCAB = len(headline_tokenizer.word_index) + 1\n",
    "print(ENCODER_VOCAB, DECODER_VOCAB)"
   ]
  },
  {
   "cell_type": "code",
   "execution_count": 10,
   "metadata": {
    "execution": {
     "iopub.execute_input": "2023-11-13T19:57:43.392104Z",
     "iopub.status.busy": "2023-11-13T19:57:43.391735Z",
     "iopub.status.idle": "2023-11-13T19:57:44.855217Z",
     "shell.execute_reply": "2023-11-13T19:57:44.854231Z",
     "shell.execute_reply.started": "2023-11-13T19:57:43.392074Z"
    }
   },
   "outputs": [],
   "source": [
    "# Pad input and target sequences to fixed lengths and cast to 64-bit integers\n",
    "inputs = tf.keras.preprocessing.sequence.pad_sequences(inputs, maxlen=ENCODER_LENGTH, padding='post', truncating='post')\n",
    "targets = tf.keras.preprocessing.sequence.pad_sequences(targets, maxlen=DECODER_LENGTH, padding='post', truncating='post')\n",
    "inputs = tf.cast(inputs, dtype=tf.int64)\n",
    "targets = tf.cast(targets, dtype=tf.int64)"
   ]
  },
  {
   "cell_type": "code",
   "execution_count": 11,
   "metadata": {
    "execution": {
     "iopub.execute_input": "2023-11-13T19:57:44.857129Z",
     "iopub.status.busy": "2023-11-13T19:57:44.856826Z",
     "iopub.status.idle": "2023-11-13T19:57:44.917952Z",
     "shell.execute_reply": "2023-11-13T19:57:44.917069Z",
     "shell.execute_reply.started": "2023-11-13T19:57:44.857099Z"
    }
   },
   "outputs": [],
   "source": [
    "# Creating a TensorFlow dataset from the input and target data, shuffle, and batch\n",
    "dataset = tf.data.Dataset.from_tensor_slices((inputs, targets)).shuffle(BUFFER_SIZE).batch(BATCH_SIZE)"
   ]
  },
  {
   "cell_type": "markdown",
   "metadata": {},
   "source": [
    "## Building the Transformer Model\n",
    "\n",
    "The following code has code for the basic or vanilla transformer model.\n",
    "This has been followed from the research paper."
   ]
  },
  {
   "cell_type": "code",
   "execution_count": 12,
   "metadata": {
    "execution": {
     "iopub.execute_input": "2023-11-13T19:57:44.919369Z",
     "iopub.status.busy": "2023-11-13T19:57:44.919108Z",
     "iopub.status.idle": "2023-11-13T19:57:44.931253Z",
     "shell.execute_reply": "2023-11-13T19:57:44.930370Z",
     "shell.execute_reply.started": "2023-11-13T19:57:44.919344Z"
    }
   },
   "outputs": [],
   "source": [
    "# Calculate angle rates for positional encoding\n",
    "def get_angles(position, i, d_model):\n",
    "    angle_rates = 1 / np.power(10000, (2 * (i // 2)) / np.float32(d_model))\n",
    "    return position * angle_rates\n",
    "\n",
    "# Generate positional encoding for a given sequence length and model dimension\n",
    "def positional_encoding(position, d_model):\n",
    "    angle_rads = get_angles(\n",
    "        np.arange(position)[:, np.newaxis],\n",
    "        np.arange(d_model)[np.newaxis, :],\n",
    "        d_model\n",
    "    )\n",
    "\n",
    "    angle_rads[:, 0::2] = np.sin(angle_rads[:, 0::2])\n",
    "\n",
    "    angle_rads[:, 1::2] = np.cos(angle_rads[:, 1::2])\n",
    "\n",
    "    pos_encoding = angle_rads[np.newaxis, ...]\n",
    "\n",
    "    return tf.cast(pos_encoding, dtype=tf.float32)\n",
    "\n",
    "# Create a mask to ignore padding tokens in a sequence\n",
    "def create_padding_mask(seq):\n",
    "    seq = tf.cast(tf.math.equal(seq, 0), tf.float32)\n",
    "    return seq[:, tf.newaxis, tf.newaxis, :]\n",
    "\n",
    "# Create a mask to prevent attention to future tokens in a sequence\n",
    "def create_look_ahead_mask(size):\n",
    "    mask = 1 - tf.linalg.band_part(tf.ones((size, size)), -1, 0)\n",
    "    return mask\n",
    "\n",
    "# Compute scaled dot-product attention between query, key, and value tensors\n",
    "def scaled_dot_product_attention(q, k, v, mask):\n",
    "    matmul_qk = tf.matmul(q, k, transpose_b=True)\n",
    "\n",
    "    dk = tf.cast(tf.shape(k)[-1], tf.float32)\n",
    "    scaled_attention_logits = matmul_qk / tf.math.sqrt(dk)\n",
    "\n",
    "    if mask is not None:\n",
    "        scaled_attention_logits += (mask * -1e9)  \n",
    "\n",
    "    attention_weights = tf.nn.softmax(scaled_attention_logits, axis=-1)\n",
    "\n",
    "    output = tf.matmul(attention_weights, v)\n",
    "    return output, attention_weights\n"
   ]
  },
  {
   "cell_type": "code",
   "execution_count": 13,
   "metadata": {
    "execution": {
     "iopub.execute_input": "2023-11-13T19:57:44.932655Z",
     "iopub.status.busy": "2023-11-13T19:57:44.932384Z",
     "iopub.status.idle": "2023-11-13T19:57:44.947145Z",
     "shell.execute_reply": "2023-11-13T19:57:44.946286Z",
     "shell.execute_reply.started": "2023-11-13T19:57:44.932617Z"
    }
   },
   "outputs": [],
   "source": [
    "# Multi-head attention mechanism\n",
    "class MultiHeadAttention(tf.keras.layers.Layer):\n",
    "    def __init__(self, d_model, num_heads):\n",
    "        super(MultiHeadAttention, self).__init__()\n",
    "        self.num_heads = num_heads\n",
    "        self.d_model = d_model\n",
    "\n",
    "        assert d_model % self.num_heads == 0\n",
    "\n",
    "        self.depth = d_model // self.num_heads\n",
    "\n",
    "        self.wq = tf.keras.layers.Dense(d_model)\n",
    "        self.wk = tf.keras.layers.Dense(d_model)\n",
    "        self.wv = tf.keras.layers.Dense(d_model)\n",
    "\n",
    "        self.dense = tf.keras.layers.Dense(d_model)\n",
    "        \n",
    "    def split_heads(self, x, batch_size):\n",
    "        x = tf.reshape(x, (batch_size, -1, self.num_heads, self.depth))\n",
    "        return tf.transpose(x, perm=[0, 2, 1, 3])\n",
    "    \n",
    "    def call(self, v, k, q, mask):\n",
    "        batch_size = tf.shape(q)[0]\n",
    "\n",
    "        q = self.wq(q)\n",
    "        k = self.wk(k)\n",
    "        v = self.wv(v)\n",
    "\n",
    "        q = self.split_heads(q, batch_size)\n",
    "        k = self.split_heads(k, batch_size)\n",
    "        v = self.split_heads(v, batch_size)\n",
    "\n",
    "        scaled_attention, attention_weights = scaled_dot_product_attention(\n",
    "            q, k, v, mask)\n",
    "\n",
    "        scaled_attention = tf.transpose(scaled_attention, perm=[0, 2, 1, 3])\n",
    "        \n",
    "        concat_attention = tf.reshape(scaled_attention, (batch_size, -1, self.d_model))\n",
    "        output = self.dense(concat_attention)\n",
    "            \n",
    "        return output, attention_weights\n",
    "    \n",
    "# Point-wise feed-forward neural network    \n",
    "def point_wise_feed_forward_network(d_model, dff):\n",
    "    return tf.keras.Sequential([\n",
    "        tf.keras.layers.Dense(dff, activation='relu'),\n",
    "        tf.keras.layers.Dense(d_model)\n",
    "    ])"
   ]
  },
  {
   "cell_type": "code",
   "execution_count": 14,
   "metadata": {
    "execution": {
     "iopub.execute_input": "2023-11-13T19:57:44.948845Z",
     "iopub.status.busy": "2023-11-13T19:57:44.948478Z",
     "iopub.status.idle": "2023-11-13T19:57:44.960332Z",
     "shell.execute_reply": "2023-11-13T19:57:44.959495Z",
     "shell.execute_reply.started": "2023-11-13T19:57:44.948800Z"
    }
   },
   "outputs": [],
   "source": [
    "# Define a single layer of the encoder, consisting of multi-head attention and feed-forward network\n",
    "class EncoderLayer(tf.keras.layers.Layer):\n",
    "    def __init__(self, d_model, num_heads, dff, rate=0.1):\n",
    "        super(EncoderLayer, self).__init__()\n",
    "\n",
    "        self.mha = MultiHeadAttention(d_model, num_heads)\n",
    "        self.ffn = point_wise_feed_forward_network(d_model, dff)\n",
    "\n",
    "        self.layernorm1 = tf.keras.layers.LayerNormalization(epsilon=1e-6)\n",
    "        self.layernorm2 = tf.keras.layers.LayerNormalization(epsilon=1e-6)\n",
    "\n",
    "        self.dropout1 = tf.keras.layers.Dropout(rate)\n",
    "        self.dropout2 = tf.keras.layers.Dropout(rate)\n",
    "\n",
    "    def call(self, x, training=False, mask=None):\n",
    "        # Multi-head attention\n",
    "        attn_output, _ = self.mha(x, x, x, mask)\n",
    "        attn_output = self.dropout1(attn_output, training=training)\n",
    "        out1 = self.layernorm1(x + attn_output)\n",
    "\n",
    "        # Feed-forward network\n",
    "        ffn_output = self.ffn(out1)\n",
    "        ffn_output = self.dropout2(ffn_output, training=training)\n",
    "        out2 = self.layernorm2(out1 + ffn_output)\n",
    "\n",
    "        return out2"
   ]
  },
  {
   "cell_type": "code",
   "execution_count": 15,
   "metadata": {
    "execution": {
     "iopub.execute_input": "2023-11-13T19:57:44.962527Z",
     "iopub.status.busy": "2023-11-13T19:57:44.962271Z",
     "iopub.status.idle": "2023-11-13T19:57:44.974293Z",
     "shell.execute_reply": "2023-11-13T19:57:44.973248Z",
     "shell.execute_reply.started": "2023-11-13T19:57:44.962502Z"
    }
   },
   "outputs": [],
   "source": [
    "# Define a single layer of the decoder, consisting of two multi-head attention mechanisms and a feed-forward network\n",
    "class DecoderLayer(tf.keras.layers.Layer):\n",
    "    def __init__(self, d_model, num_heads, dff, rate=0.1):\n",
    "        super(DecoderLayer, self).__init__()\n",
    "\n",
    "        self.mha1 = MultiHeadAttention(d_model, num_heads)\n",
    "        self.mha2 = MultiHeadAttention(d_model, num_heads)\n",
    "\n",
    "        self.ffn = point_wise_feed_forward_network(d_model, dff)\n",
    "\n",
    "        self.layernorm1 = tf.keras.layers.LayerNormalization(epsilon=1e-6)\n",
    "        self.layernorm2 = tf.keras.layers.LayerNormalization(epsilon=1e-6)\n",
    "        self.layernorm3 = tf.keras.layers.LayerNormalization(epsilon=1e-6)\n",
    "\n",
    "        self.dropout1 = tf.keras.layers.Dropout(rate)\n",
    "        self.dropout2 = tf.keras.layers.Dropout(rate)\n",
    "        self.dropout3 = tf.keras.layers.Dropout(rate)\n",
    "\n",
    "    def call(self, x, enc_output, training=False, look_ahead_mask=None, padding_mask=None):\n",
    "        attn1, attn_weights_block1 = self.mha1(x, x, x, look_ahead_mask)\n",
    "        attn1 = self.dropout1(attn1, training=training)\n",
    "        out1 = self.layernorm1(attn1 + x)\n",
    "\n",
    "        attn2, attn_weights_block2 = self.mha2(enc_output, enc_output, out1, padding_mask)\n",
    "        attn2 = self.dropout2(attn2, training=training)\n",
    "        out2 = self.layernorm2(attn2 + out1)\n",
    "\n",
    "        ffn_output = self.ffn(out2)\n",
    "        ffn_output = self.dropout3(ffn_output, training=training)\n",
    "        out3 = self.layernorm3(ffn_output + out2)\n",
    "\n",
    "        return out3, attn_weights_block1, attn_weights_block2"
   ]
  },
  {
   "cell_type": "code",
   "execution_count": 16,
   "metadata": {
    "execution": {
     "iopub.execute_input": "2023-11-13T19:57:44.976102Z",
     "iopub.status.busy": "2023-11-13T19:57:44.975788Z",
     "iopub.status.idle": "2023-11-13T19:57:44.992798Z",
     "shell.execute_reply": "2023-11-13T19:57:44.991929Z",
     "shell.execute_reply.started": "2023-11-13T19:57:44.976062Z"
    }
   },
   "outputs": [],
   "source": [
    "# Encoder architecture, containing embedding, positional encoding, and multiple encoder layers\n",
    "class Encoder(tf.keras.layers.Layer):\n",
    "    def __init__(self, num_layers, d_model, num_heads, dff, input_vocab_size, maximum_position_encoding, rate=0.1):\n",
    "        super(Encoder, self).__init__()\n",
    "\n",
    "        self.d_model = d_model\n",
    "        self.num_layers = num_layers\n",
    "\n",
    "        self.embedding = tf.keras.layers.Embedding(input_vocab_size, d_model)\n",
    "        self.pos_encoding = positional_encoding(maximum_position_encoding, self.d_model)\n",
    "\n",
    "        self.enc_layers = [EncoderLayer(d_model, num_heads, dff, rate) for _ in range(num_layers)]\n",
    "        self.dropout = tf.keras.layers.Dropout(rate)\n",
    "\n",
    "    def call(self, x, training=False, mask=None):  # Updated method signature\n",
    "        seq_len = tf.shape(x)[1]\n",
    "\n",
    "        # Add embedding and positional encoding\n",
    "        x = self.embedding(x)\n",
    "        x *= tf.math.sqrt(tf.cast(self.d_model, tf.float32))\n",
    "        x += self.pos_encoding[:, :seq_len, :]\n",
    "\n",
    "        # Apply dropout\n",
    "        x = self.dropout(x, training=training)\n",
    "\n",
    "        # Pass through encoder layers\n",
    "        for i in range(self.num_layers):\n",
    "            x = self.enc_layers[i](x, training=training, mask=mask)  # Pass training as keyword\n",
    "\n",
    "        return x\n",
    "    \n",
    "# Decoder architecture, containing embedding, positional encoding, and multiple decoder layers\n",
    "class Decoder(tf.keras.layers.Layer):\n",
    "    def __init__(self, num_layers, d_model, num_heads, dff, target_vocab_size, maximum_position_encoding, rate=0.1):\n",
    "        super(Decoder, self).__init__()\n",
    "\n",
    "        self.d_model = d_model\n",
    "        self.num_layers = num_layers\n",
    "\n",
    "        self.embedding = tf.keras.layers.Embedding(target_vocab_size, d_model)\n",
    "        self.pos_encoding = positional_encoding(maximum_position_encoding, d_model)\n",
    "\n",
    "        self.dec_layers = [DecoderLayer(d_model, num_heads, dff, rate) for _ in range(num_layers)]\n",
    "        self.dropout = tf.keras.layers.Dropout(rate)\n",
    "\n",
    "    def call(self, x, enc_output, training=False, look_ahead_mask=None, padding_mask=None):  # Updated method signature\n",
    "        seq_len = tf.shape(x)[1]\n",
    "        attention_weights = {}\n",
    "\n",
    "        x = self.embedding(x)\n",
    "        x *= tf.math.sqrt(tf.cast(self.d_model, tf.float32))\n",
    "        x += self.pos_encoding[:, :seq_len, :]\n",
    "\n",
    "        x = self.dropout(x, training=training)\n",
    "\n",
    "        for i in range(self.num_layers):\n",
    "            x, block1, block2 = self.dec_layers[i](\n",
    "                x, enc_output, training=training, look_ahead_mask=look_ahead_mask, padding_mask=padding_mask\n",
    "            )\n",
    "\n",
    "            attention_weights[f'decoder_layer{i+1}_block1'] = block1\n",
    "            attention_weights[f'decoder_layer{i+1}_block2'] = block2\n",
    "\n",
    "        return x, attention_weights"
   ]
  },
  {
   "cell_type": "code",
   "execution_count": 17,
   "metadata": {
    "execution": {
     "iopub.execute_input": "2023-11-13T19:57:44.994158Z",
     "iopub.status.busy": "2023-11-13T19:57:44.993796Z",
     "iopub.status.idle": "2023-11-13T19:57:45.005779Z",
     "shell.execute_reply": "2023-11-13T19:57:45.005076Z",
     "shell.execute_reply.started": "2023-11-13T19:57:44.994130Z"
    }
   },
   "outputs": [],
   "source": [
    "# Transformer model architecture, consisting of encoder, decoder, and final linear layer\n",
    "class Transformer(tf.keras.Model):\n",
    "    def __init__(self, num_layers, d_model, num_heads, dff, input_vocab_size, target_vocab_size, pe_input, pe_target, rate=0.1):\n",
    "        super(Transformer, self).__init__()\n",
    "\n",
    "        self.encoder = Encoder(num_layers, d_model, num_heads, dff, input_vocab_size, pe_input, rate)\n",
    "\n",
    "        self.decoder = Decoder(num_layers, d_model, num_heads, dff, target_vocab_size, pe_target, rate)\n",
    "\n",
    "        self.final_layer = tf.keras.layers.Dense(target_vocab_size)\n",
    "    \n",
    "    def call(self, inp, tar, training=False, enc_padding_mask=None, look_ahead_mask=None, dec_padding_mask=None):\n",
    "        # Pass the training flag explicitly\n",
    "        enc_output = self.encoder(inp, training=training, mask=enc_padding_mask)\n",
    "\n",
    "        # Pass masks explicitly\n",
    "        dec_output, attention_weights = self.decoder(\n",
    "            tar, enc_output, training=training, look_ahead_mask=look_ahead_mask, padding_mask=dec_padding_mask\n",
    "        )\n",
    "\n",
    "        # Final linear layer\n",
    "        final_output = self.final_layer(dec_output)\n",
    "\n",
    "        return final_output, attention_weights"
   ]
  },
  {
   "cell_type": "code",
   "execution_count": 18,
   "metadata": {
    "execution": {
     "iopub.execute_input": "2023-11-13T19:57:57.461119Z",
     "iopub.status.busy": "2023-11-13T19:57:57.460748Z",
     "iopub.status.idle": "2023-11-13T19:57:57.465261Z",
     "shell.execute_reply": "2023-11-13T19:57:57.464399Z",
     "shell.execute_reply.started": "2023-11-13T19:57:57.461085Z"
    }
   },
   "outputs": [],
   "source": [
    "# Number of layers in the encoder and decoder\n",
    "num_layers = 6 \n",
    "\n",
    "# Dimensionality of the model\n",
    "d_model = 128  \n",
    "\n",
    "# Dimensionality of the feed-forward network\n",
    "dff = 512\n",
    "\n",
    "# Number of attention heads\n",
    "num_heads = 8  \n",
    "\n",
    "# Dropout rate for regularization\n",
    "dropout_rate = 0.3\n",
    "\n",
    "# Number of training epochs\n",
    "EPOCHS = 5  "
   ]
  },
  {
   "cell_type": "markdown",
   "metadata": {},
   "source": [
    "# Custom Learning Rate"
   ]
  },
  {
   "cell_type": "code",
   "execution_count": 19,
   "metadata": {
    "execution": {
     "iopub.execute_input": "2023-11-13T19:58:01.018387Z",
     "iopub.status.busy": "2023-11-13T19:58:01.018026Z",
     "iopub.status.idle": "2023-11-13T19:58:01.024975Z",
     "shell.execute_reply": "2023-11-13T19:58:01.024081Z",
     "shell.execute_reply.started": "2023-11-13T19:58:01.018355Z"
    }
   },
   "outputs": [],
   "source": [
    "# Define a custom learning rate schedule for the Transformer model\n",
    "class CustomSchedule(tf.keras.optimizers.schedules.LearningRateSchedule):\n",
    "    # Custom learning rate schedule with warmup and decay\n",
    "    def __init__(self, d_model, warmup_steps=4000):\n",
    "        super(CustomSchedule, self).__init__()\n",
    "\n",
    "        self.d_model = d_model\n",
    "        self.d_model = tf.cast(self.d_model, tf.float32)\n",
    "        self.warmup_steps = warmup_steps\n",
    "\n",
    "    def __call__(self, step):\n",
    "        # Computing the learning rate based on the current step\n",
    "        step = tf.cast(step, tf.float32)\n",
    "        arg1 = tf.math.rsqrt(step)\n",
    "        arg2 = step * (self.warmup_steps ** -1.5)\n",
    "\n",
    "        return tf.math.rsqrt(self.d_model) * tf.math.minimum(arg1, arg2)"
   ]
  },
  {
   "cell_type": "code",
   "execution_count": 20,
   "metadata": {
    "execution": {
     "iopub.execute_input": "2023-11-13T19:58:01.407810Z",
     "iopub.status.busy": "2023-11-13T19:58:01.407479Z",
     "iopub.status.idle": "2023-11-13T19:58:01.412652Z",
     "shell.execute_reply": "2023-11-13T19:58:01.411733Z",
     "shell.execute_reply.started": "2023-11-13T19:58:01.407782Z"
    }
   },
   "outputs": [],
   "source": [
    "# Defining the optimizer for the Transformer model\n",
    "\n",
    "# Custom learning rate schedule\n",
    "learning_rate = CustomSchedule(d_model)\n",
    "\n",
    "# Adam optimizer with the custom learning rate schedule\n",
    "optimizer = tf.keras.optimizers.Adam(learning_rate, beta_1=0.9, beta_2=0.98, epsilon=1e-9)"
   ]
  },
  {
   "cell_type": "code",
   "execution_count": 21,
   "metadata": {
    "execution": {
     "iopub.execute_input": "2023-11-13T19:58:02.132999Z",
     "iopub.status.busy": "2023-11-13T19:58:02.132639Z",
     "iopub.status.idle": "2023-11-13T19:58:02.298604Z",
     "shell.execute_reply": "2023-11-13T19:58:02.297705Z",
     "shell.execute_reply.started": "2023-11-13T19:58:02.132956Z"
    }
   },
   "outputs": [
    {
     "data": {
      "text/plain": [
       "Text(0.5, 0, 'Train Step')"
      ]
     },
     "execution_count": 21,
     "metadata": {},
     "output_type": "execute_result"
    },
    {
     "data": {
      "image/png": "[encoded data removed]",
      "text/plain": [
       "<Figure size 640x480 with 1 Axes>"
      ]
     },
     "metadata": {},
     "output_type": "display_data"
    }
   ],
   "source": [
    "# Visualize the custom learning rate schedule\n",
    "temp_learning_rate_schedule = CustomSchedule(d_model)\n",
    "\n",
    "plt.plot(temp_learning_rate_schedule(tf.range(40000, dtype=tf.float32)))\n",
    "plt.ylabel(\"Learning Rate\")\n",
    "plt.xlabel(\"Train Step\")"
   ]
  },
  {
   "cell_type": "markdown",
   "metadata": {},
   "source": [
    "## Defining Custom Loss & Custom Accuracy Methods"
   ]
  },
  {
   "cell_type": "code",
   "execution_count": 22,
   "metadata": {
    "execution": {
     "iopub.execute_input": "2023-11-13T19:58:03.650222Z",
     "iopub.status.busy": "2023-11-13T19:58:03.649838Z",
     "iopub.status.idle": "2023-11-13T19:58:03.659415Z",
     "shell.execute_reply": "2023-11-13T19:58:03.658114Z",
     "shell.execute_reply.started": "2023-11-13T19:58:03.650188Z"
    }
   },
   "outputs": [],
   "source": [
    "loss_object = tf.keras.losses.SparseCategoricalCrossentropy(from_logits=True, reduction='none')\n",
    "\n",
    "# Custom loss function that masks out padding tokens\n",
    "def loss_function(real, pred):\n",
    "    mask = tf.math.logical_not(tf.math.equal(real, 0))\n",
    "    loss_ = loss_object(real, pred)\n",
    "\n",
    "    mask = tf.cast(mask, dtype=loss_.dtype)\n",
    "    loss_ *= mask\n",
    "\n",
    "    return tf.reduce_sum(loss_)/tf.reduce_sum(mask)\n",
    "\n",
    "# Custom accuracy function that masks out padding tokens\n",
    "def accuracy_function(real, pred):\n",
    "    accuracies = tf.equal(real, tf.argmax(pred, axis=2))\n",
    "\n",
    "    mask = tf.math.logical_not(tf.math.equal(real, 0))\n",
    "    accuracies = tf.math.logical_and(mask, accuracies)\n",
    "\n",
    "    accuracies = tf.cast(accuracies, dtype=tf.float32)\n",
    "    mask = tf.cast(mask, dtype=tf.float32)\n",
    "    return tf.reduce_sum(accuracies)/tf.reduce_sum(mask)"
   ]
  },
  {
   "cell_type": "code",
   "execution_count": 23,
   "metadata": {
    "execution": {
     "iopub.execute_input": "2023-11-13T19:58:04.187757Z",
     "iopub.status.busy": "2023-11-13T19:58:04.187319Z",
     "iopub.status.idle": "2023-11-13T19:58:04.207429Z",
     "shell.execute_reply": "2023-11-13T19:58:04.206562Z",
     "shell.execute_reply.started": "2023-11-13T19:58:04.187718Z"
    }
   },
   "outputs": [],
   "source": [
    "# Metrics for the transformer model\n",
    "train_loss = tf.keras.metrics.Mean(name='train_loss')\n",
    "train_accuracy = tf.keras.metrics.Mean(name='train_accuracy')"
   ]
  },
  {
   "cell_type": "code",
   "execution_count": 24,
   "metadata": {
    "execution": {
     "iopub.execute_input": "2023-11-13T19:58:04.586350Z",
     "iopub.status.busy": "2023-11-13T19:58:04.585980Z",
     "iopub.status.idle": "2023-11-13T19:58:04.759318Z",
     "shell.execute_reply": "2023-11-13T19:58:04.758232Z",
     "shell.execute_reply.started": "2023-11-13T19:58:04.586315Z"
    }
   },
   "outputs": [],
   "source": [
    "# Instantiating the Transformer model\n",
    "transformer = Transformer(\n",
    "    num_layers=num_layers,\n",
    "    d_model=d_model,\n",
    "    num_heads=num_heads,\n",
    "    dff=dff,\n",
    "    input_vocab_size=ENCODER_VOCAB,\n",
    "    target_vocab_size=DECODER_VOCAB,\n",
    "    pe_input=1000,\n",
    "    pe_target=1000,\n",
    "    rate=dropout_rate)"
   ]
  },
  {
   "cell_type": "code",
   "execution_count": 25,
   "metadata": {
    "execution": {
     "iopub.execute_input": "2023-11-13T19:58:06.307161Z",
     "iopub.status.busy": "2023-11-13T19:58:06.306795Z",
     "iopub.status.idle": "2023-11-13T19:58:06.312249Z",
     "shell.execute_reply": "2023-11-13T19:58:06.311304Z",
     "shell.execute_reply.started": "2023-11-13T19:58:06.307127Z"
    }
   },
   "outputs": [],
   "source": [
    "# Masks for the transformer model\n",
    "def create_masks(inp, tar):\n",
    "    enc_padding_mask = create_padding_mask(inp)\n",
    "    dec_padding_mask = create_padding_mask(inp)\n",
    "\n",
    "    look_ahead_mask = create_look_ahead_mask(tf.shape(tar)[1])\n",
    "    dec_target_padding_mask = create_padding_mask(tar)\n",
    "    # combined_mask = tf.maximum(dec_target_padding_mask, look_ahead_mask)\n",
    "  \n",
    "    return enc_padding_mask, look_ahead_mask, dec_padding_mask"
   ]
  },
  {
   "cell_type": "code",
   "execution_count": 26,
   "metadata": {
    "execution": {
     "iopub.execute_input": "2023-11-13T19:58:06.902857Z",
     "iopub.status.busy": "2023-11-13T19:58:06.902495Z",
     "iopub.status.idle": "2023-11-13T19:58:06.962902Z",
     "shell.execute_reply": "2023-11-13T19:58:06.962053Z",
     "shell.execute_reply.started": "2023-11-13T19:58:06.902823Z"
    }
   },
   "outputs": [
    {
     "name": "stdout",
     "output_type": "stream",
     "text": [
      "Latest checkpoint restored!!\n"
     ]
    }
   ],
   "source": [
    "# Defining checkpoint manager and restoring the latest checkpoint\n",
    "checkpoint_path = \"checkpoints\"\n",
    "\n",
    "ckpt = tf.train.Checkpoint(transformer=transformer, optimizer=optimizer)\n",
    "\n",
    "ckpt_manager = tf.train.CheckpointManager(ckpt, checkpoint_path, max_to_keep=5)\n",
    "\n",
    "if ckpt_manager.latest_checkpoint:\n",
    "    ckpt.restore(ckpt_manager.latest_checkpoint)\n",
    "    print ('Latest checkpoint restored!!')"
   ]
  },
  {
   "cell_type": "markdown",
   "metadata": {},
   "source": [
    "# Training the Model"
   ]
  },
  {
   "cell_type": "code",
   "execution_count": 27,
   "metadata": {
    "execution": {
     "iopub.execute_input": "2023-11-13T19:58:11.124562Z",
     "iopub.status.busy": "2023-11-13T19:58:11.124116Z",
     "iopub.status.idle": "2023-11-13T23:16:57.667130Z",
     "shell.execute_reply": "2023-11-13T23:16:57.666162Z",
     "shell.execute_reply.started": "2023-11-13T19:58:11.124518Z"
    }
   },
   "outputs": [],
   "source": [
    "# Training step function for the Transformer model\n",
    "@tf.function\n",
    "def train_step(inp, tar):\n",
    "    tar_inp = tar[:, :-1]\n",
    "    tar_real = tar[:, 1:]\n",
    "\n",
    "    enc_padding_mask, combined_mask, dec_padding_mask = create_masks(inp, tar_inp)\n",
    "\n",
    "    with tf.GradientTape() as tape:\n",
    "        predictions, _ = transformer(\n",
    "            inp, tar_inp, \n",
    "            training=True,  \n",
    "            enc_padding_mask=enc_padding_mask, \n",
    "            dec_padding_mask=dec_padding_mask,\n",
    "            look_ahead_mask=combined_mask\n",
    "        )\n",
    "        loss = loss_function(tar_real, predictions)\n",
    "\n",
    "    gradients = tape.gradient(loss, transformer.trainable_variables)    \n",
    "    optimizer.apply_gradients(zip(gradients, transformer.trainable_variables))\n",
    "\n",
    "    train_loss(loss)\n",
    "    train_accuracy(accuracy_function(tar_real, predictions))"
   ]
  },
  {
   "cell_type": "code",
   "execution_count": 28,
   "metadata": {},
   "outputs": [
    {
     "name": "stdout",
     "output_type": "stream",
     "text": [
      "WARNING:tensorflow:Detecting that an object or model or tf.train.Checkpoint is being deleted with unrestored values. See the following logs for the specific values in question. To silence these warnings, use `status.expect_partial()`. See https://www.tensorflow.org/api_docs/python/tf/train/Checkpoint#restorefor details about the status object returned by the restore function.\n",
      "WARNING:tensorflow:Value in checkpoint could not be found in the restored object: (root).optimizer._trainable_variables.1\n",
      "WARNING:tensorflow:Value in checkpoint could not be found in the restored object: (root).optimizer._trainable_variables.2\n",
      "WARNING:tensorflow:Value in checkpoint could not be found in the restored object: (root).optimizer._trainable_variables.3\n",
      "WARNING:tensorflow:Value in checkpoint could not be found in the restored object: (root).optimizer._trainable_variables.4\n",
      "WARNING:tensorflow:Value in checkpoint could not be found in the restored object: (root).optimizer._trainable_variables.5\n",
      "WARNING:tensorflow:Value in checkpoint could not be found in the restored object: (root).optimizer._trainable_variables.6\n",
      "WARNING:tensorflow:Value in checkpoint could not be found in the restored object: (root).optimizer._trainable_variables.7\n",
      "WARNING:tensorflow:Value in checkpoint could not be found in the restored object: (root).optimizer._trainable_variables.8\n",
      "WARNING:tensorflow:Value in checkpoint could not be found in the restored object: (root).optimizer._trainable_variables.9\n",
      "WARNING:tensorflow:Value in checkpoint could not be found in the restored object: (root).optimizer._trainable_variables.10\n",
      "WARNING:tensorflow:Value in checkpoint could not be found in the restored object: (root).optimizer._trainable_variables.11\n",
      "WARNING:tensorflow:Value in checkpoint could not be found in the restored object: (root).optimizer._trainable_variables.12\n",
      "WARNING:tensorflow:Value in checkpoint could not be found in the restored object: (root).optimizer._trainable_variables.13\n",
      "WARNING:tensorflow:Value in checkpoint could not be found in the restored object: (root).optimizer._trainable_variables.14\n",
      "WARNING:tensorflow:Value in checkpoint could not be found in the restored object: (root).optimizer._trainable_variables.15\n",
      "WARNING:tensorflow:Value in checkpoint could not be found in the restored object: (root).optimizer._trainable_variables.16\n",
      "WARNING:tensorflow:Value in checkpoint could not be found in the restored object: (root).optimizer._trainable_variables.17\n",
      "WARNING:tensorflow:Value in checkpoint could not be found in the restored object: (root).optimizer._trainable_variables.18\n",
      "WARNING:tensorflow:Value in checkpoint could not be found in the restored object: (root).optimizer._trainable_variables.19\n",
      "WARNING:tensorflow:Value in checkpoint could not be found in the restored object: (root).optimizer._trainable_variables.20\n",
      "WARNING:tensorflow:Value in checkpoint could not be found in the restored object: (root).optimizer._trainable_variables.21\n",
      "WARNING:tensorflow:Value in checkpoint could not be found in the restored object: (root).optimizer._trainable_variables.22\n",
      "WARNING:tensorflow:Value in checkpoint could not be found in the restored object: (root).optimizer._trainable_variables.23\n",
      "WARNING:tensorflow:Value in checkpoint could not be found in the restored object: (root).optimizer._trainable_variables.24\n",
      "WARNING:tensorflow:Value in checkpoint could not be found in the restored object: (root).optimizer._trainable_variables.25\n",
      "WARNING:tensorflow:Value in checkpoint could not be found in the restored object: (root).optimizer._trainable_variables.26\n",
      "WARNING:tensorflow:Value in checkpoint could not be found in the restored object: (root).optimizer._trainable_variables.27\n",
      "WARNING:tensorflow:Value in checkpoint could not be found in the restored object: (root).optimizer._trainable_variables.28\n",
      "WARNING:tensorflow:Value in checkpoint could not be found in the restored object: (root).optimizer._trainable_variables.29\n",
      "WARNING:tensorflow:Value in checkpoint could not be found in the restored object: (root).optimizer._trainable_variables.30\n",
      "WARNING:tensorflow:Value in checkpoint could not be found in the restored object: (root).optimizer._trainable_variables.31\n",
      "WARNING:tensorflow:Value in checkpoint could not be found in the restored object: (root).optimizer._trainable_variables.32\n",
      "WARNING:tensorflow:Value in checkpoint could not be found in the restored object: (root).optimizer._trainable_variables.33\n",
      "WARNING:tensorflow:Value in checkpoint could not be found in the restored object: (root).optimizer._trainable_variables.34\n",
      "WARNING:tensorflow:Value in checkpoint could not be found in the restored object: (root).optimizer._trainable_variables.35\n",
      "WARNING:tensorflow:Value in checkpoint could not be found in the restored object: (root).optimizer._trainable_variables.36\n",
      "WARNING:tensorflow:Value in checkpoint could not be found in the restored object: (root).optimizer._trainable_variables.37\n",
      "WARNING:tensorflow:Value in checkpoint could not be found in the restored object: (root).optimizer._trainable_variables.38\n",
      "WARNING:tensorflow:Value in checkpoint could not be found in the restored object: (root).optimizer._trainable_variables.39\n",
      "WARNING:tensorflow:Value in checkpoint could not be found in the restored object: (root).optimizer._trainable_variables.40\n",
      "WARNING:tensorflow:Value in checkpoint could not be found in the restored object: (root).optimizer._trainable_variables.41\n",
      "WARNING:tensorflow:Value in checkpoint could not be found in the restored object: (root).optimizer._trainable_variables.42\n",
      "WARNING:tensorflow:Value in checkpoint could not be found in the restored object: (root).optimizer._trainable_variables.43\n",
      "WARNING:tensorflow:Value in checkpoint could not be found in the restored object: (root).optimizer._trainable_variables.44\n",
      "WARNING:tensorflow:Value in checkpoint could not be found in the restored object: (root).optimizer._trainable_variables.45\n",
      "WARNING:tensorflow:Value in checkpoint could not be found in the restored object: (root).optimizer._trainable_variables.46\n",
      "WARNING:tensorflow:Value in checkpoint could not be found in the restored object: (root).optimizer._trainable_variables.47\n",
      "WARNING:tensorflow:Value in checkpoint could not be found in the restored object: (root).optimizer._trainable_variables.48\n",
      "WARNING:tensorflow:Value in checkpoint could not be found in the restored object: (root).optimizer._trainable_variables.49\n",
      "WARNING:tensorflow:Value in checkpoint could not be found in the restored object: (root).optimizer._trainable_variables.50\n",
      "WARNING:tensorflow:Value in checkpoint could not be found in the restored object: (root).optimizer._trainable_variables.51\n",
      "WARNING:tensorflow:Value in checkpoint could not be found in the restored object: (root).optimizer._trainable_variables.52\n",
      "WARNING:tensorflow:Value in checkpoint could not be found in the restored object: (root).optimizer._trainable_variables.53\n",
      "WARNING:tensorflow:Value in checkpoint could not be found in the restored object: (root).optimizer._trainable_variables.54\n",
      "WARNING:tensorflow:Value in checkpoint could not be found in the restored object: (root).optimizer._trainable_variables.55\n",
      "WARNING:tensorflow:Value in checkpoint could not be found in the restored object: (root).optimizer._trainable_variables.56\n",
      "WARNING:tensorflow:Value in checkpoint could not be found in the restored object: (root).optimizer._trainable_variables.57\n",
      "WARNING:tensorflow:Value in checkpoint could not be found in the restored object: (root).optimizer._trainable_variables.58\n",
      "WARNING:tensorflow:Value in checkpoint could not be found in the restored object: (root).optimizer._trainable_variables.59\n",
      "WARNING:tensorflow:Value in checkpoint could not be found in the restored object: (root).optimizer._trainable_variables.60\n",
      "WARNING:tensorflow:Value in checkpoint could not be found in the restored object: (root).optimizer._trainable_variables.61\n",
      "WARNING:tensorflow:Value in checkpoint could not be found in the restored object: (root).optimizer._trainable_variables.62\n",
      "WARNING:tensorflow:Value in checkpoint could not be found in the restored object: (root).optimizer._trainable_variables.63\n",
      "WARNING:tensorflow:Value in checkpoint could not be found in the restored object: (root).optimizer._trainable_variables.64\n",
      "WARNING:tensorflow:Value in checkpoint could not be found in the restored object: (root).optimizer._trainable_variables.65\n",
      "WARNING:tensorflow:Value in checkpoint could not be found in the restored object: (root).optimizer._trainable_variables.66\n",
      "WARNING:tensorflow:Value in checkpoint could not be found in the restored object: (root).optimizer._trainable_variables.67\n",
      "WARNING:tensorflow:Value in checkpoint could not be found in the restored object: (root).optimizer._trainable_variables.68\n",
      "WARNING:tensorflow:Value in checkpoint could not be found in the restored object: (root).optimizer._trainable_variables.69\n",
      "WARNING:tensorflow:Value in checkpoint could not be found in the restored object: (root).optimizer._trainable_variables.70\n",
      "WARNING:tensorflow:Value in checkpoint could not be found in the restored object: (root).optimizer._trainable_variables.71\n",
      "WARNING:tensorflow:Value in checkpoint could not be found in the restored object: (root).optimizer._trainable_variables.72\n",
      "WARNING:tensorflow:Value in checkpoint could not be found in the restored object: (root).optimizer._trainable_variables.73\n",
      "WARNING:tensorflow:Value in checkpoint could not be found in the restored object: (root).optimizer._trainable_variables.74\n",
      "WARNING:tensorflow:Value in checkpoint could not be found in the restored object: (root).optimizer._trainable_variables.75\n",
      "WARNING:tensorflow:Value in checkpoint could not be found in the restored object: (root).optimizer._trainable_variables.76\n",
      "WARNING:tensorflow:Value in checkpoint could not be found in the restored object: (root).optimizer._trainable_variables.77\n",
      "WARNING:tensorflow:Value in checkpoint could not be found in the restored object: (root).optimizer._trainable_variables.78\n",
      "WARNING:tensorflow:Value in checkpoint could not be found in the restored object: (root).optimizer._trainable_variables.79\n",
      "WARNING:tensorflow:Value in checkpoint could not be found in the restored object: (root).optimizer._trainable_variables.80\n",
      "WARNING:tensorflow:Value in checkpoint could not be found in the restored object: (root).optimizer._trainable_variables.81\n",
      "WARNING:tensorflow:Value in checkpoint could not be found in the restored object: (root).optimizer._trainable_variables.82\n",
      "WARNING:tensorflow:Value in checkpoint could not be found in the restored object: (root).optimizer._trainable_variables.83\n",
      "WARNING:tensorflow:Value in checkpoint could not be found in the restored object: (root).optimizer._trainable_variables.84\n",
      "WARNING:tensorflow:Value in checkpoint could not be found in the restored object: (root).optimizer._trainable_variables.85\n",
      "WARNING:tensorflow:Value in checkpoint could not be found in the restored object: (root).optimizer._trainable_variables.86\n",
      "WARNING:tensorflow:Value in checkpoint could not be found in the restored object: (root).optimizer._trainable_variables.87\n",
      "WARNING:tensorflow:Value in checkpoint could not be found in the restored object: (root).optimizer._trainable_variables.88\n",
      "WARNING:tensorflow:Value in checkpoint could not be found in the restored object: (root).optimizer._trainable_variables.89\n",
      "WARNING:tensorflow:Value in checkpoint could not be found in the restored object: (root).optimizer._trainable_variables.90\n",
      "WARNING:tensorflow:Value in checkpoint could not be found in the restored object: (root).optimizer._trainable_variables.91\n",
      "WARNING:tensorflow:Value in checkpoint could not be found in the restored object: (root).optimizer._trainable_variables.92\n",
      "WARNING:tensorflow:Value in checkpoint could not be found in the restored object: (root).optimizer._trainable_variables.93\n",
      "WARNING:tensorflow:Value in checkpoint could not be found in the restored object: (root).optimizer._trainable_variables.94\n",
      "WARNING:tensorflow:Value in checkpoint could not be found in the restored object: (root).optimizer._trainable_variables.95\n",
      "WARNING:tensorflow:Value in checkpoint could not be found in the restored object: (root).optimizer._trainable_variables.96\n",
      "WARNING:tensorflow:Value in checkpoint could not be found in the restored object: (root).optimizer._trainable_variables.98\n",
      "WARNING:tensorflow:Value in checkpoint could not be found in the restored object: (root).optimizer._trainable_variables.99\n",
      "WARNING:tensorflow:Value in checkpoint could not be found in the restored object: (root).optimizer._trainable_variables.100\n",
      "WARNING:tensorflow:Value in checkpoint could not be found in the restored object: (root).optimizer._trainable_variables.101\n",
      "WARNING:tensorflow:Value in checkpoint could not be found in the restored object: (root).optimizer._trainable_variables.102\n",
      "WARNING:tensorflow:Value in checkpoint could not be found in the restored object: (root).optimizer._trainable_variables.103\n",
      "WARNING:tensorflow:Value in checkpoint could not be found in the restored object: (root).optimizer._trainable_variables.104\n",
      "WARNING:tensorflow:Value in checkpoint could not be found in the restored object: (root).optimizer._trainable_variables.105\n",
      "WARNING:tensorflow:Value in checkpoint could not be found in the restored object: (root).optimizer._trainable_variables.106\n",
      "WARNING:tensorflow:Value in checkpoint could not be found in the restored object: (root).optimizer._trainable_variables.107\n",
      "WARNING:tensorflow:Value in checkpoint could not be found in the restored object: (root).optimizer._trainable_variables.108\n",
      "WARNING:tensorflow:Value in checkpoint could not be found in the restored object: (root).optimizer._trainable_variables.109\n",
      "WARNING:tensorflow:Value in checkpoint could not be found in the restored object: (root).optimizer._trainable_variables.110\n",
      "WARNING:tensorflow:Value in checkpoint could not be found in the restored object: (root).optimizer._trainable_variables.111\n",
      "WARNING:tensorflow:Value in checkpoint could not be found in the restored object: (root).optimizer._trainable_variables.112\n",
      "WARNING:tensorflow:Value in checkpoint could not be found in the restored object: (root).optimizer._trainable_variables.113\n",
      "WARNING:tensorflow:Value in checkpoint could not be found in the restored object: (root).optimizer._trainable_variables.114\n",
      "WARNING:tensorflow:Value in checkpoint could not be found in the restored object: (root).optimizer._trainable_variables.115\n",
      "WARNING:tensorflow:Value in checkpoint could not be found in the restored object: (root).optimizer._trainable_variables.116\n",
      "WARNING:tensorflow:Value in checkpoint could not be found in the restored object: (root).optimizer._trainable_variables.117\n",
      "WARNING:tensorflow:Value in checkpoint could not be found in the restored object: (root).optimizer._trainable_variables.118\n",
      "WARNING:tensorflow:Value in checkpoint could not be found in the restored object: (root).optimizer._trainable_variables.119\n",
      "WARNING:tensorflow:Value in checkpoint could not be found in the restored object: (root).optimizer._trainable_variables.120\n",
      "WARNING:tensorflow:Value in checkpoint could not be found in the restored object: (root).optimizer._trainable_variables.121\n",
      "WARNING:tensorflow:Value in checkpoint could not be found in the restored object: (root).optimizer._trainable_variables.122\n",
      "WARNING:tensorflow:Value in checkpoint could not be found in the restored object: (root).optimizer._trainable_variables.123\n",
      "WARNING:tensorflow:Value in checkpoint could not be found in the restored object: (root).optimizer._trainable_variables.124\n",
      "WARNING:tensorflow:Value in checkpoint could not be found in the restored object: (root).optimizer._trainable_variables.125\n",
      "WARNING:tensorflow:Value in checkpoint could not be found in the restored object: (root).optimizer._trainable_variables.126\n",
      "WARNING:tensorflow:Value in checkpoint could not be found in the restored object: (root).optimizer._trainable_variables.127\n",
      "WARNING:tensorflow:Value in checkpoint could not be found in the restored object: (root).optimizer._trainable_variables.128\n",
      "WARNING:tensorflow:Value in checkpoint could not be found in the restored object: (root).optimizer._trainable_variables.129\n",
      "WARNING:tensorflow:Value in checkpoint could not be found in the restored object: (root).optimizer._trainable_variables.130\n",
      "WARNING:tensorflow:Value in checkpoint could not be found in the restored object: (root).optimizer._trainable_variables.131\n",
      "WARNING:tensorflow:Value in checkpoint could not be found in the restored object: (root).optimizer._trainable_variables.132\n",
      "WARNING:tensorflow:Value in checkpoint could not be found in the restored object: (root).optimizer._trainable_variables.133\n",
      "WARNING:tensorflow:Value in checkpoint could not be found in the restored object: (root).optimizer._trainable_variables.134\n",
      "WARNING:tensorflow:Value in checkpoint could not be found in the restored object: (root).optimizer._trainable_variables.135\n",
      "WARNING:tensorflow:Value in checkpoint could not be found in the restored object: (root).optimizer._trainable_variables.136\n",
      "WARNING:tensorflow:Value in checkpoint could not be found in the restored object: (root).optimizer._trainable_variables.137\n",
      "WARNING:tensorflow:Value in checkpoint could not be found in the restored object: (root).optimizer._trainable_variables.138\n",
      "WARNING:tensorflow:Value in checkpoint could not be found in the restored object: (root).optimizer._trainable_variables.139\n",
      "WARNING:tensorflow:Value in checkpoint could not be found in the restored object: (root).optimizer._trainable_variables.140\n",
      "WARNING:tensorflow:Value in checkpoint could not be found in the restored object: (root).optimizer._trainable_variables.141\n",
      "WARNING:tensorflow:Value in checkpoint could not be found in the restored object: (root).optimizer._trainable_variables.142\n",
      "WARNING:tensorflow:Value in checkpoint could not be found in the restored object: (root).optimizer._trainable_variables.143\n",
      "WARNING:tensorflow:Value in checkpoint could not be found in the restored object: (root).optimizer._trainable_variables.144\n",
      "WARNING:tensorflow:Value in checkpoint could not be found in the restored object: (root).optimizer._trainable_variables.145\n",
      "WARNING:tensorflow:Value in checkpoint could not be found in the restored object: (root).optimizer._trainable_variables.146\n",
      "WARNING:tensorflow:Value in checkpoint could not be found in the restored object: (root).optimizer._trainable_variables.147\n",
      "WARNING:tensorflow:Value in checkpoint could not be found in the restored object: (root).optimizer._trainable_variables.148\n",
      "WARNING:tensorflow:Value in checkpoint could not be found in the restored object: (root).optimizer._trainable_variables.149\n",
      "WARNING:tensorflow:Value in checkpoint could not be found in the restored object: (root).optimizer._trainable_variables.150\n",
      "WARNING:tensorflow:Value in checkpoint could not be found in the restored object: (root).optimizer._trainable_variables.151\n",
      "WARNING:tensorflow:Value in checkpoint could not be found in the restored object: (root).optimizer._trainable_variables.152\n",
      "WARNING:tensorflow:Value in checkpoint could not be found in the restored object: (root).optimizer._trainable_variables.153\n",
      "WARNING:tensorflow:Value in checkpoint could not be found in the restored object: (root).optimizer._trainable_variables.154\n",
      "WARNING:tensorflow:Value in checkpoint could not be found in the restored object: (root).optimizer._trainable_variables.155\n",
      "WARNING:tensorflow:Value in checkpoint could not be found in the restored object: (root).optimizer._trainable_variables.156\n",
      "WARNING:tensorflow:Value in checkpoint could not be found in the restored object: (root).optimizer._trainable_variables.157\n",
      "WARNING:tensorflow:Value in checkpoint could not be found in the restored object: (root).optimizer._trainable_variables.158\n",
      "WARNING:tensorflow:Value in checkpoint could not be found in the restored object: (root).optimizer._trainable_variables.159\n",
      "WARNING:tensorflow:Value in checkpoint could not be found in the restored object: (root).optimizer._trainable_variables.160\n",
      "WARNING:tensorflow:Value in checkpoint could not be found in the restored object: (root).optimizer._trainable_variables.161\n",
      "WARNING:tensorflow:Value in checkpoint could not be found in the restored object: (root).optimizer._trainable_variables.162\n",
      "WARNING:tensorflow:Value in checkpoint could not be found in the restored object: (root).optimizer._trainable_variables.163\n",
      "WARNING:tensorflow:Value in checkpoint could not be found in the restored object: (root).optimizer._trainable_variables.164\n",
      "WARNING:tensorflow:Value in checkpoint could not be found in the restored object: (root).optimizer._trainable_variables.165\n",
      "WARNING:tensorflow:Value in checkpoint could not be found in the restored object: (root).optimizer._trainable_variables.166\n",
      "WARNING:tensorflow:Value in checkpoint could not be found in the restored object: (root).optimizer._trainable_variables.167\n",
      "WARNING:tensorflow:Value in checkpoint could not be found in the restored object: (root).optimizer._trainable_variables.168\n",
      "WARNING:tensorflow:Value in checkpoint could not be found in the restored object: (root).optimizer._trainable_variables.169\n",
      "WARNING:tensorflow:Value in checkpoint could not be found in the restored object: (root).optimizer._trainable_variables.170\n",
      "WARNING:tensorflow:Value in checkpoint could not be found in the restored object: (root).optimizer._trainable_variables.171\n",
      "WARNING:tensorflow:Value in checkpoint could not be found in the restored object: (root).optimizer._trainable_variables.172\n",
      "WARNING:tensorflow:Value in checkpoint could not be found in the restored object: (root).optimizer._trainable_variables.173\n",
      "WARNING:tensorflow:Value in checkpoint could not be found in the restored object: (root).optimizer._trainable_variables.174\n",
      "WARNING:tensorflow:Value in checkpoint could not be found in the restored object: (root).optimizer._trainable_variables.175\n",
      "WARNING:tensorflow:Value in checkpoint could not be found in the restored object: (root).optimizer._trainable_variables.176\n",
      "WARNING:tensorflow:Value in checkpoint could not be found in the restored object: (root).optimizer._trainable_variables.177\n",
      "WARNING:tensorflow:Value in checkpoint could not be found in the restored object: (root).optimizer._trainable_variables.178\n",
      "WARNING:tensorflow:Value in checkpoint could not be found in the restored object: (root).optimizer._trainable_variables.179\n",
      "WARNING:tensorflow:Value in checkpoint could not be found in the restored object: (root).optimizer._trainable_variables.180\n",
      "WARNING:tensorflow:Value in checkpoint could not be found in the restored object: (root).optimizer._trainable_variables.181\n",
      "WARNING:tensorflow:Value in checkpoint could not be found in the restored object: (root).optimizer._trainable_variables.182\n",
      "WARNING:tensorflow:Value in checkpoint could not be found in the restored object: (root).optimizer._trainable_variables.183\n",
      "WARNING:tensorflow:Value in checkpoint could not be found in the restored object: (root).optimizer._trainable_variables.184\n",
      "WARNING:tensorflow:Value in checkpoint could not be found in the restored object: (root).optimizer._trainable_variables.185\n",
      "WARNING:tensorflow:Value in checkpoint could not be found in the restored object: (root).optimizer._trainable_variables.186\n",
      "WARNING:tensorflow:Value in checkpoint could not be found in the restored object: (root).optimizer._trainable_variables.187\n",
      "WARNING:tensorflow:Value in checkpoint could not be found in the restored object: (root).optimizer._trainable_variables.188\n",
      "WARNING:tensorflow:Value in checkpoint could not be found in the restored object: (root).optimizer._trainable_variables.189\n",
      "WARNING:tensorflow:Value in checkpoint could not be found in the restored object: (root).optimizer._trainable_variables.190\n",
      "WARNING:tensorflow:Value in checkpoint could not be found in the restored object: (root).optimizer._trainable_variables.191\n",
      "WARNING:tensorflow:Value in checkpoint could not be found in the restored object: (root).optimizer._trainable_variables.192\n",
      "WARNING:tensorflow:Value in checkpoint could not be found in the restored object: (root).optimizer._trainable_variables.193\n",
      "WARNING:tensorflow:Value in checkpoint could not be found in the restored object: (root).optimizer._trainable_variables.194\n",
      "WARNING:tensorflow:Value in checkpoint could not be found in the restored object: (root).optimizer._trainable_variables.195\n",
      "WARNING:tensorflow:Value in checkpoint could not be found in the restored object: (root).optimizer._trainable_variables.196\n",
      "WARNING:tensorflow:Value in checkpoint could not be found in the restored object: (root).optimizer._trainable_variables.197\n",
      "WARNING:tensorflow:Value in checkpoint could not be found in the restored object: (root).optimizer._trainable_variables.198\n",
      "WARNING:tensorflow:Value in checkpoint could not be found in the restored object: (root).optimizer._trainable_variables.199\n",
      "WARNING:tensorflow:Value in checkpoint could not be found in the restored object: (root).optimizer._trainable_variables.200\n",
      "WARNING:tensorflow:Value in checkpoint could not be found in the restored object: (root).optimizer._trainable_variables.201\n",
      "WARNING:tensorflow:Value in checkpoint could not be found in the restored object: (root).optimizer._trainable_variables.202\n",
      "WARNING:tensorflow:Value in checkpoint could not be found in the restored object: (root).optimizer._trainable_variables.203\n",
      "WARNING:tensorflow:Value in checkpoint could not be found in the restored object: (root).optimizer._trainable_variables.204\n",
      "WARNING:tensorflow:Value in checkpoint could not be found in the restored object: (root).optimizer._trainable_variables.205\n",
      "WARNING:tensorflow:Value in checkpoint could not be found in the restored object: (root).optimizer._trainable_variables.206\n",
      "WARNING:tensorflow:Value in checkpoint could not be found in the restored object: (root).optimizer._trainable_variables.207\n",
      "WARNING:tensorflow:Value in checkpoint could not be found in the restored object: (root).optimizer._trainable_variables.208\n",
      "WARNING:tensorflow:Value in checkpoint could not be found in the restored object: (root).optimizer._trainable_variables.209\n",
      "WARNING:tensorflow:Value in checkpoint could not be found in the restored object: (root).optimizer._trainable_variables.210\n",
      "WARNING:tensorflow:Value in checkpoint could not be found in the restored object: (root).optimizer._trainable_variables.211\n",
      "WARNING:tensorflow:Value in checkpoint could not be found in the restored object: (root).optimizer._trainable_variables.212\n",
      "WARNING:tensorflow:Value in checkpoint could not be found in the restored object: (root).optimizer._trainable_variables.213\n",
      "WARNING:tensorflow:Value in checkpoint could not be found in the restored object: (root).optimizer._trainable_variables.214\n",
      "WARNING:tensorflow:Value in checkpoint could not be found in the restored object: (root).optimizer._trainable_variables.215\n",
      "WARNING:tensorflow:Value in checkpoint could not be found in the restored object: (root).optimizer._trainable_variables.216\n",
      "WARNING:tensorflow:Value in checkpoint could not be found in the restored object: (root).optimizer._trainable_variables.217\n",
      "WARNING:tensorflow:Value in checkpoint could not be found in the restored object: (root).optimizer._trainable_variables.218\n",
      "WARNING:tensorflow:Value in checkpoint could not be found in the restored object: (root).optimizer._trainable_variables.219\n",
      "WARNING:tensorflow:Value in checkpoint could not be found in the restored object: (root).optimizer._trainable_variables.220\n",
      "WARNING:tensorflow:Value in checkpoint could not be found in the restored object: (root).optimizer._trainable_variables.221\n",
      "WARNING:tensorflow:Value in checkpoint could not be found in the restored object: (root).optimizer._trainable_variables.222\n",
      "WARNING:tensorflow:Value in checkpoint could not be found in the restored object: (root).optimizer._trainable_variables.223\n",
      "WARNING:tensorflow:Value in checkpoint could not be found in the restored object: (root).optimizer._trainable_variables.224\n",
      "WARNING:tensorflow:Value in checkpoint could not be found in the restored object: (root).optimizer._trainable_variables.225\n",
      "WARNING:tensorflow:Value in checkpoint could not be found in the restored object: (root).optimizer._trainable_variables.226\n",
      "WARNING:tensorflow:Value in checkpoint could not be found in the restored object: (root).optimizer._trainable_variables.227\n",
      "WARNING:tensorflow:Value in checkpoint could not be found in the restored object: (root).optimizer._trainable_variables.228\n",
      "WARNING:tensorflow:Value in checkpoint could not be found in the restored object: (root).optimizer._trainable_variables.229\n",
      "WARNING:tensorflow:Value in checkpoint could not be found in the restored object: (root).optimizer._trainable_variables.230\n",
      "WARNING:tensorflow:Value in checkpoint could not be found in the restored object: (root).optimizer._trainable_variables.231\n",
      "WARNING:tensorflow:Value in checkpoint could not be found in the restored object: (root).optimizer._trainable_variables.232\n",
      "WARNING:tensorflow:Value in checkpoint could not be found in the restored object: (root).optimizer._trainable_variables.233\n",
      "WARNING:tensorflow:Value in checkpoint could not be found in the restored object: (root).optimizer._trainable_variables.234\n",
      "WARNING:tensorflow:Value in checkpoint could not be found in the restored object: (root).optimizer._trainable_variables.235\n",
      "WARNING:tensorflow:Value in checkpoint could not be found in the restored object: (root).optimizer._trainable_variables.236\n",
      "WARNING:tensorflow:Value in checkpoint could not be found in the restored object: (root).optimizer._trainable_variables.237\n",
      "WARNING:tensorflow:Value in checkpoint could not be found in the restored object: (root).optimizer._trainable_variables.238\n",
      "WARNING:tensorflow:Value in checkpoint could not be found in the restored object: (root).optimizer._trainable_variables.239\n",
      "WARNING:tensorflow:Value in checkpoint could not be found in the restored object: (root).optimizer._trainable_variables.240\n",
      "WARNING:tensorflow:Value in checkpoint could not be found in the restored object: (root).optimizer._trainable_variables.241\n",
      "WARNING:tensorflow:Value in checkpoint could not be found in the restored object: (root).optimizer._trainable_variables.242\n",
      "WARNING:tensorflow:Value in checkpoint could not be found in the restored object: (root).optimizer._trainable_variables.243\n",
      "WARNING:tensorflow:Value in checkpoint could not be found in the restored object: (root).optimizer._trainable_variables.244\n",
      "WARNING:tensorflow:Value in checkpoint could not be found in the restored object: (root).optimizer._trainable_variables.245\n",
      "WARNING:tensorflow:Value in checkpoint could not be found in the restored object: (root).optimizer._trainable_variables.246\n",
      "WARNING:tensorflow:Value in checkpoint could not be found in the restored object: (root).optimizer._trainable_variables.247\n",
      "WARNING:tensorflow:Value in checkpoint could not be found in the restored object: (root).optimizer._trainable_variables.248\n",
      "WARNING:tensorflow:Value in checkpoint could not be found in the restored object: (root).optimizer._trainable_variables.249\n",
      "WARNING:tensorflow:Value in checkpoint could not be found in the restored object: (root).optimizer._trainable_variables.250\n",
      "WARNING:tensorflow:Value in checkpoint could not be found in the restored object: (root).optimizer._trainable_variables.251\n",
      "WARNING:tensorflow:Value in checkpoint could not be found in the restored object: (root).optimizer._trainable_variables.252\n",
      "WARNING:tensorflow:Value in checkpoint could not be found in the restored object: (root).optimizer._trainable_variables.253\n"
     ]
    },
    {
     "name": "stderr",
     "output_type": "stream",
     "text": [
      "/opt/anaconda3/lib/python3.12/site-packages/keras/src/optimizers/base_optimizer.py:731: UserWarning: Gradients do not exist for variables ['embeddings', 'embeddings', 'kernel'] when minimizing the loss. If using `model.compile()`, did you forget to provide a `loss` argument?\n",
      "  warnings.warn(\n"
     ]
    },
    {
     "name": "stdout",
     "output_type": "stream",
     "text": [
      "Epoch 1 Batch 0 Loss 9.6311 Accuracy 0.0029\n",
      "Epoch 1 Batch 100 Loss 7.8828 Accuracy 0.0860\n",
      "Epoch 1 Batch 200 Loss 7.7781 Accuracy 0.0905\n",
      "Epoch 1 Batch 300 Loss 7.7268 Accuracy 0.0925\n",
      "Epoch 1 Batch 400 Loss 7.7045 Accuracy 0.0953\n",
      "Epoch 1 Batch 500 Loss 7.6796 Accuracy 0.0996\n",
      "Epoch 1 Batch 600 Loss 7.6552 Accuracy 0.1036\n",
      "Epoch 1 Batch 700 Loss 7.6301 Accuracy 0.1074\n",
      "Epoch 1 Batch 800 Loss 7.6076 Accuracy 0.1103\n"
     ]
    },
    {
     "name": "stderr",
     "output_type": "stream",
     "text": [
      "2024-11-24 21:17:56.854751: I tensorflow/core/framework/local_rendezvous.cc:405] Local rendezvous is aborting with status: OUT_OF_RANGE: End of sequence\n"
     ]
    },
    {
     "name": "stdout",
     "output_type": "stream",
     "text": [
      "Epoch 1 Loss 7.5923 Accuracy 0.1118\n",
      "Time taken for 1 epoch: 1030.1078758239746 secs\n",
      "\n",
      "Epoch 2 Batch 0 Loss 7.7025 Accuracy 0.1117\n",
      "Epoch 2 Batch 100 Loss 7.3675 Accuracy 0.1115\n",
      "Epoch 2 Batch 200 Loss 7.3463 Accuracy 0.1115\n",
      "Epoch 2 Batch 300 Loss 7.3208 Accuracy 0.1117\n",
      "Epoch 2 Batch 400 Loss 7.3203 Accuracy 0.1121\n",
      "Epoch 2 Batch 500 Loss 7.3130 Accuracy 0.1131\n",
      "Epoch 2 Batch 600 Loss 7.3040 Accuracy 0.1143\n",
      "Epoch 2 Batch 700 Loss 7.2940 Accuracy 0.1156\n",
      "Epoch 2 Batch 800 Loss 7.2850 Accuracy 0.1167\n"
     ]
    },
    {
     "name": "stderr",
     "output_type": "stream",
     "text": [
      "2024-11-24 21:35:47.177172: I tensorflow/core/framework/local_rendezvous.cc:405] Local rendezvous is aborting with status: OUT_OF_RANGE: End of sequence\n"
     ]
    },
    {
     "name": "stdout",
     "output_type": "stream",
     "text": [
      "Epoch 2 Loss 7.2809 Accuracy 0.1173\n",
      "Time taken for 1 epoch: 1070.3245429992676 secs\n",
      "\n",
      "Epoch 3 Batch 0 Loss 7.5937 Accuracy 0.1173\n",
      "Epoch 3 Batch 100 Loss 7.2786 Accuracy 0.1170\n",
      "Epoch 3 Batch 200 Loss 7.2705 Accuracy 0.1168\n",
      "Epoch 3 Batch 300 Loss 7.2542 Accuracy 0.1167\n",
      "Epoch 3 Batch 400 Loss 7.2539 Accuracy 0.1168\n",
      "Epoch 3 Batch 500 Loss 7.2465 Accuracy 0.1172\n",
      "Epoch 3 Batch 600 Loss 7.2360 Accuracy 0.1179\n",
      "Epoch 3 Batch 700 Loss 7.2273 Accuracy 0.1185\n",
      "Epoch 3 Batch 800 Loss 7.2176 Accuracy 0.1192\n",
      "Epoch 3 Loss 7.2140 Accuracy 0.1196\n",
      "Time taken for 1 epoch: 1006.8257632255554 secs\n",
      "\n",
      "Epoch 4 Batch 0 Loss 7.4939 Accuracy 0.1196\n",
      "Epoch 4 Batch 100 Loss 7.2510 Accuracy 0.1193\n",
      "Epoch 4 Batch 200 Loss 7.2435 Accuracy 0.1191\n",
      "Epoch 4 Batch 300 Loss 7.2265 Accuracy 0.1190\n",
      "Epoch 4 Batch 400 Loss 7.2263 Accuracy 0.1190\n",
      "Epoch 4 Batch 500 Loss 7.2231 Accuracy 0.1193\n",
      "Epoch 4 Batch 600 Loss 7.2124 Accuracy 0.1196\n",
      "Epoch 4 Batch 700 Loss 7.2024 Accuracy 0.1201\n",
      "Epoch 4 Batch 800 Loss 7.1919 Accuracy 0.1206\n"
     ]
    },
    {
     "name": "stderr",
     "output_type": "stream",
     "text": [
      "2024-11-24 22:09:47.141466: I tensorflow/core/framework/local_rendezvous.cc:405] Local rendezvous is aborting with status: OUT_OF_RANGE: End of sequence\n"
     ]
    },
    {
     "name": "stdout",
     "output_type": "stream",
     "text": [
      "Epoch 4 Loss 7.1868 Accuracy 0.1209\n",
      "Time taken for 1 epoch: 1033.1385488510132 secs\n",
      "\n",
      "Epoch 5 Batch 0 Loss 7.5154 Accuracy 0.1209\n",
      "Epoch 5 Batch 100 Loss 7.2326 Accuracy 0.1206\n",
      "Epoch 5 Batch 200 Loss 7.2289 Accuracy 0.1205\n",
      "Epoch 5 Batch 300 Loss 7.2122 Accuracy 0.1204\n",
      "Epoch 5 Batch 400 Loss 7.2112 Accuracy 0.1204\n",
      "Epoch 5 Batch 500 Loss 7.2054 Accuracy 0.1205\n",
      "Epoch 5 Batch 600 Loss 7.1938 Accuracy 0.1208\n",
      "Epoch 5 Batch 700 Loss 7.1833 Accuracy 0.1212\n",
      "Epoch 5 Batch 800 Loss 7.1728 Accuracy 0.1216\n",
      "Saving checkpoint for epoch 5 at checkpoints/ckpt-26\n",
      "Epoch 5 Loss 7.1679 Accuracy 0.1218\n",
      "Time taken for 1 epoch: 1023.6600031852722 secs\n",
      "\n"
     ]
    }
   ],
   "source": [
    "# Train the Transformer model for the specified number of epochs\n",
    "for epoch in range(EPOCHS):\n",
    "    start = time.time()\n",
    "\n",
    "    train_loss.reset_state()\n",
    "  \n",
    "    for (batch, (inp, tar)) in enumerate(dataset):\n",
    "        train_step(inp, tar)\n",
    "    \n",
    "        if batch % 100 == 0:\n",
    "            print(f'Epoch {epoch + 1} Batch {batch} Loss {train_loss.result():.4f} Accuracy {train_accuracy.result():.4f}')\n",
    "      \n",
    "    if (epoch + 1) % 5 == 0:\n",
    "        ckpt_save_path = ckpt_manager.save()\n",
    "        print ('Saving checkpoint for epoch {} at {}'.format(epoch+1, ckpt_save_path))\n",
    "   \n",
    "    print(f'Epoch {epoch + 1} Loss {train_loss.result():.4f} Accuracy {train_accuracy.result():.4f}')\n",
    "    print ('Time taken for 1 epoch: {} secs\\n'.format(time.time() - start))"
   ]
  },
  {
   "cell_type": "markdown",
   "metadata": {},
   "source": [
    "## Results Evaluation"
   ]
  },
  {
   "cell_type": "code",
   "execution_count": 35,
   "metadata": {
    "execution": {
     "iopub.execute_input": "2023-11-13T19:43:57.013532Z",
     "iopub.status.busy": "2023-11-13T19:43:57.013193Z",
     "iopub.status.idle": "2023-11-13T19:43:57.023586Z",
     "shell.execute_reply": "2023-11-13T19:43:57.022554Z",
     "shell.execute_reply.started": "2023-11-13T19:43:57.013501Z"
    }
   },
   "outputs": [],
   "source": [
    "# Evaluate the Transformer model\n",
    "def evaluate(input_article):\n",
    "    input_article = short_tokenizer.texts_to_sequences([input_article])\n",
    "    input_article = tf.keras.preprocessing.sequence.pad_sequences(input_article, maxlen=ENCODER_LENGTH, \n",
    "                                                                   padding='post', truncating='post')\n",
    "\n",
    "    encoder_input = tf.expand_dims(input_article[0], 0)\n",
    "\n",
    "    decoder_input = [headline_tokenizer.word_index['<sos>']]\n",
    "    output = tf.expand_dims(decoder_input, 0)\n",
    "    \n",
    "    for i in range(DECODER_LENGTH):\n",
    "        enc_padding_mask, combined_mask, dec_padding_mask = create_masks(encoder_input, output)\n",
    "\n",
    "        predictions, attention_weights = transformer(\n",
    "            encoder_input, \n",
    "            output,\n",
    "            training=False,\n",
    "            enc_padding_mask=enc_padding_mask,\n",
    "            look_ahead_mask=combined_mask,\n",
    "            dec_padding_mask=dec_padding_mask\n",
    "        )\n",
    "\n",
    "        predictions = predictions[: ,-1:, :]\n",
    "        predicted_id = tf.cast(tf.argmax(predictions, axis=-1), tf.int32)\n",
    "\n",
    "        if predicted_id == headline_tokenizer.word_index['<eos>']:\n",
    "            return tf.squeeze(output, axis=0), attention_weights\n",
    "\n",
    "        output = tf.concat([output, predicted_id], axis=-1)\n",
    "\n",
    "    return tf.squeeze(output, axis=0), attention_weights"
   ]
  },
  {
   "cell_type": "code",
   "execution_count": 36,
   "metadata": {
    "execution": {
     "iopub.execute_input": "2023-11-13T19:48:40.158132Z",
     "iopub.status.busy": "2023-11-13T19:48:40.157764Z",
     "iopub.status.idle": "2023-11-13T19:48:40.163077Z",
     "shell.execute_reply": "2023-11-13T19:48:40.162059Z",
     "shell.execute_reply.started": "2023-11-13T19:48:40.158099Z"
    }
   },
   "outputs": [],
   "source": [
    "# Summarize an input article using the Transformer model\n",
    "def summarize(input_article):\n",
    "    summarized = evaluate(input_article=input_article)[0].numpy()\n",
    "    summarized = np.expand_dims(summarized[1:], 0)  \n",
    "    return headline_tokenizer.sequences_to_texts(summarized)[0]"
   ]
  },
  {
   "cell_type": "markdown",
   "metadata": {},
   "source": [
    "## Predictions\n",
    "\n",
    "Below we make predictions to see how the transformer model is performing. </br>\n",
    "As this is a basic model, results can be improved with further tweaks and training params."
   ]
  },
  {
   "cell_type": "code",
   "execution_count": 37,
   "metadata": {
    "execution": {
     "iopub.execute_input": "2023-11-13T19:44:01.052930Z",
     "iopub.status.busy": "2023-11-13T19:44:01.052579Z",
     "iopub.status.idle": "2023-11-13T19:44:01.058906Z",
     "shell.execute_reply": "2023-11-13T19:44:01.058044Z",
     "shell.execute_reply.started": "2023-11-13T19:44:01.052901Z"
    }
   },
   "outputs": [
    {
     "data": {
      "text/plain": [
       "'<SOS> A new trailer for the upcoming superhero film  Justice League  was released on Saturday. Based on the DC Comics superhero team, the film stars Ben Affleck as  Batman , Gal Gadot as  Wonder Woman , Ezra Miller as  The Flash  and Jason Momoa as  Aquaman . Directed by Zack Snyder, the film is scheduled to release on November 17, 2017. <EOS>'"
      ]
     },
     "execution_count": 37,
     "metadata": {},
     "output_type": "execute_result"
    }
   ],
   "source": [
    "short[5]"
   ]
  },
  {
   "cell_type": "code",
   "execution_count": 38,
   "metadata": {
    "execution": {
     "iopub.execute_input": "2023-11-13T19:44:04.898508Z",
     "iopub.status.busy": "2023-11-13T19:44:04.898140Z",
     "iopub.status.idle": "2023-11-13T19:44:05.518865Z",
     "shell.execute_reply": "2023-11-13T19:44:05.517873Z",
     "shell.execute_reply.started": "2023-11-13T19:44:04.898476Z"
    }
   },
   "outputs": [
    {
     "name": "stdout",
     "output_type": "stream",
     "text": [
      "Real Headline :   New trailer of  Justice League  released  \n",
      " Predicted Summary :  \n"
     ]
    }
   ],
   "source": [
    "print(\"Real Headline : \", headline[5][5:-5],\"\\n Predicted Summary : \", summarize(short[5]))"
   ]
  },
  {
   "cell_type": "code",
   "execution_count": 39,
   "metadata": {
    "execution": {
     "iopub.execute_input": "2023-11-13T19:44:09.025304Z",
     "iopub.status.busy": "2023-11-13T19:44:09.024926Z",
     "iopub.status.idle": "2023-11-13T19:44:09.031110Z",
     "shell.execute_reply": "2023-11-13T19:44:09.030077Z",
     "shell.execute_reply.started": "2023-11-13T19:44:09.025269Z"
    }
   },
   "outputs": [
    {
     "data": {
      "text/plain": [
       "'<SOS> As a part of an education initiative, the entire Wankhede Stadium will be reserved for underprivileged children for the IPL 2017 match between Mumbai Indians and Gujarat Lions, to be held on April 16. A statement by the Mumbai Indians read that they will not be selling any stand tickets for the team s third home game, against the Gujarat Lions. <EOS>'"
      ]
     },
     "execution_count": 39,
     "metadata": {},
     "output_type": "execute_result"
    }
   ],
   "source": [
    "short[16]"
   ]
  },
  {
   "cell_type": "code",
   "execution_count": 40,
   "metadata": {
    "execution": {
     "iopub.execute_input": "2023-11-13T19:44:14.852674Z",
     "iopub.status.busy": "2023-11-13T19:44:14.852323Z",
     "iopub.status.idle": "2023-11-13T19:44:15.433048Z",
     "shell.execute_reply": "2023-11-13T19:44:15.432122Z",
     "shell.execute_reply.started": "2023-11-13T19:44:14.852641Z"
    }
   },
   "outputs": [
    {
     "name": "stdout",
     "output_type": "stream",
     "text": [
      "Real Headline :   Underprivileged kids to fill Wankhede during MI s IPL match  \n",
      "Predicted Summary :  \n"
     ]
    }
   ],
   "source": [
    "print(\"Real Headline : \", headline[16][5:-5],\"\\nPredicted Summary : \", summarize(short[16]))"
   ]
  },
  {
   "cell_type": "code",
   "execution_count": 44,
   "metadata": {},
   "outputs": [
    {
     "data": {
      "text/plain": [
       "''"
      ]
     },
     "execution_count": 44,
     "metadata": {},
     "output_type": "execute_result"
    }
   ],
   "source": [
    "summarize(short[3])"
   ]
  },
  {
   "cell_type": "code",
   "execution_count": null,
   "metadata": {},
   "outputs": [],
   "source": []
  }
 ],
 "metadata": {
  "kernelspec": {
   "display_name": "Python 3 (ipykernel)",
   "language": "python",
   "name": "python3"
  },
  "language_info": {
   "codemirror_mode": {
    "name": "ipython",
    "version": 3
   },
   "file_extension": ".py",
   "mimetype": "text/x-python",
   "name": "python",
   "nbconvert_exporter": "python",
   "pygments_lexer": "ipython3",
   "version": "3.12.4"
  }
 },
 "nbformat": 4,
 "nbformat_minor": 4
}
